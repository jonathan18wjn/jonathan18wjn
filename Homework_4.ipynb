{
  "nbformat": 4,
  "nbformat_minor": 0,
  "metadata": {
    "colab": {
      "name": "Homework 4.ipynb",
      "provenance": [],
      "collapsed_sections": [
        "QWH4jz2niyTg"
      ],
      "authorship_tag": "ABX9TyNYS7WwqNcbjjj+CRn+cDtS",
      "include_colab_link": true
    },
    "kernelspec": {
      "name": "python3",
      "display_name": "Python 3"
    },
    "language_info": {
      "name": "python"
    }
  },
  "cells": [
    {
      "cell_type": "markdown",
      "metadata": {
        "id": "view-in-github",
        "colab_type": "text"
      },
      "source": [
        "<a href=\"https://colab.research.google.com/github/jonathan18wjn/jonathan18wjn/blob/main/Homework_4.ipynb\" target=\"_parent\"><img src=\"https://colab.research.google.com/assets/colab-badge.svg\" alt=\"Open In Colab\"/></a>"
      ]
    },
    {
      "cell_type": "code",
      "source": [
        "import numpy as np\n",
        "from sklearn.feature_extraction.text import CountVectorizer\n",
        "import pandas as pd\n",
        "import matplotlib.pyplot as plt\n",
        "from sklearn.feature_extraction.text import TfidfVectorizer"
      ],
      "metadata": {
        "id": "IeBTC-BPa0LP"
      },
      "execution_count": 1,
      "outputs": []
    },
    {
      "cell_type": "code",
      "source": [
        "# helper function to plot top positive and negative coefficients\n",
        "\n",
        "def visualize_coefficients(coefficients, feature_names, n_top_features=25):\n",
        "    \"\"\"Visualize coefficients of a linear model.\n",
        "    Parameters\n",
        "    ----------\n",
        "    coefficients : nd-array, shape (n_features,)\n",
        "        Model coefficients.\n",
        "    feature_names : list or nd-array of strings, shape (n_features,)\n",
        "        Feature names for labeling the coefficients.\n",
        "    n_top_features : int, default=25\n",
        "        How many features to show. The function will show the largest (most\n",
        "        positive) and smallest (most negative)  n_top_features coefficients,\n",
        "        for a total of 2 * n_top_features coefficients.\n",
        "    \"\"\"\n",
        "    coefficients = coefficients.squeeze()\n",
        "    if coefficients.ndim > 1:\n",
        "        # this is not a row or column vector\n",
        "        raise ValueError(\"coeffients must be 1d array or column vector, got\"\n",
        "                         \" shape {}\".format(coefficients.shape))\n",
        "    coefficients = coefficients.ravel()\n",
        "\n",
        "    if len(coefficients) != len(feature_names):\n",
        "        raise ValueError(\"Number of coefficients {} doesn't match number of\"\n",
        "                         \"feature names {}.\".format(len(coefficients),\n",
        "                                                    len(feature_names)))\n",
        "    # get coefficients with large absolute values\n",
        "    coef = coefficients.ravel()\n",
        "    positive_coefficients = np.argsort(coef)[-n_top_features:]\n",
        "    negative_coefficients = np.argsort(coef)[:n_top_features]\n",
        "    interesting_coefficients = np.hstack([negative_coefficients,\n",
        "                                          positive_coefficients])\n",
        "    # plot them\n",
        "    plt.figure(figsize=(15, 5))\n",
        "    colors = ['#ff2020' if c < 0 else '#0000aa'\n",
        "              for c in coef[interesting_coefficients]]\n",
        "    plt.bar(np.arange(2 * n_top_features), coef[interesting_coefficients],\n",
        "            color=colors)\n",
        "    feature_names = np.array(feature_names)\n",
        "    plt.subplots_adjust(bottom=0.3)\n",
        "    plt.xticks(np.arange(1, 1 + 2 * n_top_features),\n",
        "               feature_names[interesting_coefficients], rotation=60,\n",
        "               ha=\"right\")\n",
        "    plt.ylabel(\"Coefficient magnitude\")\n",
        "    plt.xlabel(\"Feature\")\n"
      ],
      "metadata": {
        "id": "XI9JfdSX3y_y"
      },
      "execution_count": 2,
      "outputs": []
    },
    {
      "cell_type": "markdown",
      "source": [
        "### Part 1: Build a classification model using text data"
      ],
      "metadata": {
        "id": "2r03LujIGtIJ"
      }
    },
    {
      "cell_type": "code",
      "metadata": {
        "id": "niwgyS_Q3Y3V"
      },
      "source": [
        "# Read in the data\n",
        "X = pd.read_csv(\"X_train.csv\")\n",
        "y = pd.read_csv(\"y_train.csv\")"
      ],
      "execution_count": 3,
      "outputs": []
    },
    {
      "cell_type": "code",
      "source": [
        "from sklearn.model_selection import train_test_split\n",
        "\n",
        "X_train, X_test, y_train, y_test = train_test_split(X.loc[:,\"headline\"],y.loc[:,\"label\"],random_state=42)\n"
      ],
      "metadata": {
        "id": "zcjyJyG3q8-Y"
      },
      "execution_count": 4,
      "outputs": []
    },
    {
      "cell_type": "code",
      "source": [
        "X.head()"
      ],
      "metadata": {
        "colab": {
          "base_uri": "https://localhost:8080/",
          "height": 206
        },
        "id": "E6dW-iGd1vNu",
        "outputId": "d35f84a6-1b7c-4e4b-89f7-aab1a1a619e5"
      },
      "execution_count": 23,
      "outputs": [
        {
          "output_type": "execute_result",
          "data": {
            "text/html": [
              "<div>\n",
              "<style scoped>\n",
              "    .dataframe tbody tr th:only-of-type {\n",
              "        vertical-align: middle;\n",
              "    }\n",
              "\n",
              "    .dataframe tbody tr th {\n",
              "        vertical-align: top;\n",
              "    }\n",
              "\n",
              "    .dataframe thead th {\n",
              "        text-align: right;\n",
              "    }\n",
              "</style>\n",
              "<table border=\"1\" class=\"dataframe\">\n",
              "  <thead>\n",
              "    <tr style=\"text-align: right;\">\n",
              "      <th></th>\n",
              "      <th>Unnamed: 0</th>\n",
              "      <th>headline</th>\n",
              "    </tr>\n",
              "  </thead>\n",
              "  <tbody>\n",
              "    <tr>\n",
              "      <th>0</th>\n",
              "      <td>0</td>\n",
              "      <td>MyBook Disk Drive Handles Lots of Easy Backups</td>\n",
              "    </tr>\n",
              "    <tr>\n",
              "      <th>1</th>\n",
              "      <td>1</td>\n",
              "      <td>CIT Posts Eighth Loss in a Row</td>\n",
              "    </tr>\n",
              "    <tr>\n",
              "      <th>2</th>\n",
              "      <td>2</td>\n",
              "      <td>Candy Carson Singing The \"National Anthem\" Is ...</td>\n",
              "    </tr>\n",
              "    <tr>\n",
              "      <th>3</th>\n",
              "      <td>3</td>\n",
              "      <td>Why You Need To Stop What You're Doing And Dat...</td>\n",
              "    </tr>\n",
              "    <tr>\n",
              "      <th>4</th>\n",
              "      <td>4</td>\n",
              "      <td>27 Times Adele Proved She's Actually The Reale...</td>\n",
              "    </tr>\n",
              "  </tbody>\n",
              "</table>\n",
              "</div>"
            ],
            "text/plain": [
              "   Unnamed: 0                                           headline\n",
              "0           0     MyBook Disk Drive Handles Lots of Easy Backups\n",
              "1           1                     CIT Posts Eighth Loss in a Row\n",
              "2           2  Candy Carson Singing The \"National Anthem\" Is ...\n",
              "3           3  Why You Need To Stop What You're Doing And Dat...\n",
              "4           4  27 Times Adele Proved She's Actually The Reale..."
            ]
          },
          "metadata": {},
          "execution_count": 23
        }
      ]
    },
    {
      "cell_type": "code",
      "source": [
        "y.head()"
      ],
      "metadata": {
        "colab": {
          "base_uri": "https://localhost:8080/",
          "height": 206
        },
        "id": "cq2KYm9U1h75",
        "outputId": "eb36a5c3-510e-4dd3-cf35-a4bb159b6890"
      },
      "execution_count": 21,
      "outputs": [
        {
          "output_type": "execute_result",
          "data": {
            "text/html": [
              "<div>\n",
              "<style scoped>\n",
              "    .dataframe tbody tr th:only-of-type {\n",
              "        vertical-align: middle;\n",
              "    }\n",
              "\n",
              "    .dataframe tbody tr th {\n",
              "        vertical-align: top;\n",
              "    }\n",
              "\n",
              "    .dataframe thead th {\n",
              "        text-align: right;\n",
              "    }\n",
              "</style>\n",
              "<table border=\"1\" class=\"dataframe\">\n",
              "  <thead>\n",
              "    <tr style=\"text-align: right;\">\n",
              "      <th></th>\n",
              "      <th>Unnamed: 0</th>\n",
              "      <th>label</th>\n",
              "    </tr>\n",
              "  </thead>\n",
              "  <tbody>\n",
              "    <tr>\n",
              "      <th>0</th>\n",
              "      <td>13620</td>\n",
              "      <td>not clickbait</td>\n",
              "    </tr>\n",
              "    <tr>\n",
              "      <th>1</th>\n",
              "      <td>15394</td>\n",
              "      <td>not clickbait</td>\n",
              "    </tr>\n",
              "    <tr>\n",
              "      <th>2</th>\n",
              "      <td>2796</td>\n",
              "      <td>clickbait</td>\n",
              "    </tr>\n",
              "    <tr>\n",
              "      <th>3</th>\n",
              "      <td>1673</td>\n",
              "      <td>clickbait</td>\n",
              "    </tr>\n",
              "    <tr>\n",
              "      <th>4</th>\n",
              "      <td>13020</td>\n",
              "      <td>clickbait</td>\n",
              "    </tr>\n",
              "  </tbody>\n",
              "</table>\n",
              "</div>"
            ],
            "text/plain": [
              "   Unnamed: 0          label\n",
              "0       13620  not clickbait\n",
              "1       15394  not clickbait\n",
              "2        2796      clickbait\n",
              "3        1673      clickbait\n",
              "4       13020      clickbait"
            ]
          },
          "metadata": {},
          "execution_count": 21
        }
      ]
    },
    {
      "cell_type": "markdown",
      "source": [
        "##### Vectorization Method 1 CountVectorizer ngram_range = (1,1)"
      ],
      "metadata": {
        "id": "QWH4jz2niyTg"
      }
    },
    {
      "cell_type": "code",
      "source": [
        "# Vectorization\n",
        "from sklearn.feature_extraction.text import CountVectorizer\n",
        "\n",
        "vect = CountVectorizer(ngram_range=(1, 1), stop_words=\"english\")\n",
        "X_train1 = vect.fit_transform(X_train)\n",
        "X_test1 = vect.transform(X_test)\n",
        "y_train1 = y_train\n",
        "y_test1 = y_test"
      ],
      "metadata": {
        "id": "DC8h1My0bAeG"
      },
      "execution_count": 12,
      "outputs": []
    },
    {
      "cell_type": "markdown",
      "source": [
        "The first vecorization method would be CountVectorizer with ngram_range = (1,1), where only unigrams will be extracted. "
      ],
      "metadata": {
        "id": "qdrwf1O3qw_P"
      }
    },
    {
      "cell_type": "markdown",
      "source": [
        "Logistic Model 1:"
      ],
      "metadata": {
        "id": "EuTLDlIMryZE"
      }
    },
    {
      "cell_type": "code",
      "source": [
        "from sklearn.model_selection import cross_val_score\n",
        "from sklearn.linear_model import LogisticRegression\n",
        "\n",
        "scores = cross_val_score(LogisticRegression(C = 1), X_train1, y_train1, cv=5)\n",
        "print(\"Mean cross-validation accuracy: {:.2f}\".format(np.mean(scores)))"
      ],
      "metadata": {
        "colab": {
          "base_uri": "https://localhost:8080/"
        },
        "id": "6jnWfkFofCD5",
        "outputId": "92a346f1-722e-4ec9-e39d-24859b6f511c"
      },
      "execution_count": 13,
      "outputs": [
        {
          "output_type": "stream",
          "name": "stdout",
          "text": [
            "Mean cross-validation accuracy: 0.95\n"
          ]
        }
      ]
    },
    {
      "cell_type": "markdown",
      "source": [
        "Logstic Model 2:"
      ],
      "metadata": {
        "id": "IRokx-P-tLza"
      }
    },
    {
      "cell_type": "code",
      "source": [
        "scores = cross_val_score(LogisticRegression(C = 0.01), X_train1, y_train1, cv=5)\n",
        "print(\"Mean cross-validation accuracy: {:.2f}\".format(np.mean(scores)))"
      ],
      "metadata": {
        "colab": {
          "base_uri": "https://localhost:8080/"
        },
        "id": "Z1b8M1Z1r8Yc",
        "outputId": "35fce3e1-8d70-416d-8330-54809efe36f4"
      },
      "execution_count": 14,
      "outputs": [
        {
          "output_type": "stream",
          "name": "stdout",
          "text": [
            "Mean cross-validation accuracy: 0.88\n"
          ]
        }
      ]
    },
    {
      "cell_type": "markdown",
      "source": [
        "Logistic Model 3:"
      ],
      "metadata": {
        "id": "dXYT9ZTFtO5L"
      }
    },
    {
      "cell_type": "code",
      "source": [
        "scores = cross_val_score(LogisticRegression(C = 0.1), X_train1, y_train1, cv=5)\n",
        "print(\"Mean cross-validation accuracy: {:.2f}\".format(np.mean(scores)))"
      ],
      "metadata": {
        "colab": {
          "base_uri": "https://localhost:8080/"
        },
        "id": "EnHL_DR3r8fj",
        "outputId": "492fb7d3-4891-4974-b2f5-244d7da16b2b"
      },
      "execution_count": 15,
      "outputs": [
        {
          "output_type": "stream",
          "name": "stdout",
          "text": [
            "Mean cross-validation accuracy: 0.93\n"
          ]
        }
      ]
    },
    {
      "cell_type": "markdown",
      "source": [
        "From the results of the cross-validation, the logistic model 1 with C = 1 has the highest accuracy score, so logistic model 1 is the best model to be used with CountVectorizer method. "
      ],
      "metadata": {
        "id": "HQpEdaqwyFW3"
      }
    },
    {
      "cell_type": "markdown",
      "source": [
        "Final Model:"
      ],
      "metadata": {
        "id": "6kLCOXdF3NfO"
      }
    },
    {
      "cell_type": "code",
      "source": [
        "log_regression = LogisticRegression(C=1)\n",
        "model = log_regression.fit(X_train1,y_train1)\n",
        "\n",
        "y_pred_proba1 = log_regression.predict_proba(X_test1)[:,1]"
      ],
      "metadata": {
        "id": "2tUCciuNtg9y"
      },
      "execution_count": 16,
      "outputs": []
    },
    {
      "cell_type": "code",
      "source": [
        "from sklearn import metrics\n",
        "auc = metrics.roc_auc_score(y_test1, y_pred_proba1)\n",
        "print(auc)"
      ],
      "metadata": {
        "colab": {
          "base_uri": "https://localhost:8080/"
        },
        "id": "qOrZAYXqw6iU",
        "outputId": "62ab4317-5e5b-4323-ef25-f7d5158d8bdf"
      },
      "execution_count": 17,
      "outputs": [
        {
          "output_type": "stream",
          "name": "stdout",
          "text": [
            "0.9889879634301447\n"
          ]
        }
      ]
    },
    {
      "cell_type": "code",
      "source": [
        "coefs = model.coef_\n",
        "feature_names = vect.get_feature_names()\n",
        "\n",
        "visualize_coefficients(coefs, feature_names, n_top_features=20)"
      ],
      "metadata": {
        "colab": {
          "base_uri": "https://localhost:8080/",
          "height": 368
        },
        "id": "shvvH2tr3UyZ",
        "outputId": "577e9f9a-18a0-4ad5-8e8b-2f709f23d4fc"
      },
      "execution_count": 19,
      "outputs": [
        {
          "output_type": "stream",
          "name": "stderr",
          "text": [
            "/usr/local/lib/python3.7/dist-packages/sklearn/utils/deprecation.py:87: FutureWarning: Function get_feature_names is deprecated; get_feature_names is deprecated in 1.0 and will be removed in 1.2. Please use get_feature_names_out instead.\n",
            "  warnings.warn(msg, category=FutureWarning)\n"
          ]
        },
        {
          "output_type": "display_data",
          "data": {
            "image/png": "[encoded data removed]",
            "text/plain": [
              "<Figure size 1080x360 with 1 Axes>"
            ]
          },
          "metadata": {
            "needs_background": "light"
          }
        }
      ]
    },
    {
      "cell_type": "markdown",
      "source": [
        "The AUC score of the test test using the logistic model 1 is 0.9890, which is a desirable result. The graph above shows the visualization of the coefficients in the model. From the graph, we can see that words like \"dies\", \"kills\" are some of the most significant indicator that the message is clickbait, while words like \"know\" or \"actually\" are significant indicators of messages that are not clickbait. "
      ],
      "metadata": {
        "id": "WFuOjblMyZt4"
      }
    },
    {
      "cell_type": "markdown",
      "source": [
        "##### Vectorization Method 2 TfidfVectorizer ngram_range=(1,3)"
      ],
      "metadata": {
        "id": "98632mGE-nlt"
      }
    },
    {
      "cell_type": "code",
      "source": [
        "vect1 = TfidfVectorizer(ngram_range=(1,3), min_df=5, norm=None, stop_words=\"english\")\n",
        "X_train2 = vect1.fit_transform(X_train)\n",
        "X_test2 = vect1.transform(X_test)\n",
        "y_train2 = y_train\n",
        "y_test2 = y_test"
      ],
      "metadata": {
        "id": "5a8YvF2Y-l-A"
      },
      "execution_count": 24,
      "outputs": []
    },
    {
      "cell_type": "markdown",
      "source": [
        "The second vectorization method would be TfidVectorizer with ngram_range(1,2), which means that unigrams, bigrams and trigrams are all extracted. "
      ],
      "metadata": {
        "id": "6FO0hrpE2taM"
      }
    },
    {
      "cell_type": "markdown",
      "source": [
        "Logistic Model 1"
      ],
      "metadata": {
        "id": "ijS1Tv_IAOSe"
      }
    },
    {
      "cell_type": "code",
      "source": [
        "scores = cross_val_score(LogisticRegression(C = 0.1), X_train2, y_train2, cv=5)\n",
        "print(\"Mean cross-validation accuracy: {:.4f}\".format(np.mean(scores)))"
      ],
      "metadata": {
        "colab": {
          "base_uri": "https://localhost:8080/"
        },
        "id": "51ZyFtyMAR9D",
        "outputId": "d41490fe-9d5a-4e27-8e62-92e6ea3ce610"
      },
      "execution_count": 25,
      "outputs": [
        {
          "output_type": "stream",
          "name": "stdout",
          "text": [
            "Mean cross-validation accuracy: 0.9478\n"
          ]
        }
      ]
    },
    {
      "cell_type": "markdown",
      "source": [
        "Logistic Model 2"
      ],
      "metadata": {
        "id": "Zd6dPyJxAfrf"
      }
    },
    {
      "cell_type": "code",
      "source": [
        "scores = cross_val_score(LogisticRegression(C = 1), X_train2, y_train2, cv=5)\n",
        "print(\"Mean cross-validation accuracy: {:.4f}\".format(np.mean(scores)))"
      ],
      "metadata": {
        "colab": {
          "base_uri": "https://localhost:8080/"
        },
        "id": "_E_mEb98AfA7",
        "outputId": "eba2260d-c873-4706-bee4-c15e3e64ddea"
      },
      "execution_count": 26,
      "outputs": [
        {
          "output_type": "stream",
          "name": "stdout",
          "text": [
            "Mean cross-validation accuracy: 0.9379\n"
          ]
        }
      ]
    },
    {
      "cell_type": "markdown",
      "source": [
        "Logistic Model 3"
      ],
      "metadata": {
        "id": "8HHXVO4kAiwc"
      }
    },
    {
      "cell_type": "code",
      "source": [
        "scores = cross_val_score(LogisticRegression(C = 0.01), X_train2, y_train2, cv=5)\n",
        "print(\"Mean cross-validation accuracy: {:.4f}\".format(np.mean(scores)))"
      ],
      "metadata": {
        "colab": {
          "base_uri": "https://localhost:8080/"
        },
        "id": "I5oh9I0TAfLJ",
        "outputId": "02a561bf-0064-4631-9819-9f8ef3b80f9f"
      },
      "execution_count": 27,
      "outputs": [
        {
          "output_type": "stream",
          "name": "stdout",
          "text": [
            "Mean cross-validation accuracy: 0.9501\n"
          ]
        }
      ]
    },
    {
      "cell_type": "markdown",
      "source": [
        "From the cross-validation acuracy scores from the three logistic models, model 3 has the highest accuracy score with 0.95. Therefore, model 3 should be the best model used for prediction. "
      ],
      "metadata": {
        "id": "zbBw_gfs2Uzl"
      }
    },
    {
      "cell_type": "markdown",
      "source": [
        "Final Model"
      ],
      "metadata": {
        "id": "tT5LPLrMAqUd"
      }
    },
    {
      "cell_type": "code",
      "source": [
        "log_regression = LogisticRegression(C=0.01)\n",
        "model = log_regression.fit(X_train2,y_train2)\n",
        "\n",
        "y_pred_proba2 = log_regression.predict_proba(X_test2)[:,1]"
      ],
      "metadata": {
        "id": "Ydc3tRrzArTp"
      },
      "execution_count": 29,
      "outputs": []
    },
    {
      "cell_type": "code",
      "source": [
        "from sklearn import metrics\n",
        "auc = metrics.roc_auc_score(y_test2, y_pred_proba2)\n",
        "print(auc)"
      ],
      "metadata": {
        "colab": {
          "base_uri": "https://localhost:8080/"
        },
        "id": "iS6xkJHvA9yV",
        "outputId": "e7ebc572-099d-4638-c4ef-d7e5721d1df9"
      },
      "execution_count": 30,
      "outputs": [
        {
          "output_type": "stream",
          "name": "stdout",
          "text": [
            "0.9884307719384382\n"
          ]
        }
      ]
    },
    {
      "cell_type": "code",
      "source": [
        "coefs = model.coef_\n",
        "feature_names = vect1.get_feature_names()\n",
        "\n",
        "visualize_coefficients(coefs, feature_names, n_top_features=20)"
      ],
      "metadata": {
        "colab": {
          "base_uri": "https://localhost:8080/",
          "height": 370
        },
        "id": "k00Y-T1uBHFs",
        "outputId": "6c609569-1494-4cfb-ff9c-5642f83bd9a7"
      },
      "execution_count": 32,
      "outputs": [
        {
          "output_type": "stream",
          "name": "stderr",
          "text": [
            "/usr/local/lib/python3.7/dist-packages/sklearn/utils/deprecation.py:87: FutureWarning: Function get_feature_names is deprecated; get_feature_names is deprecated in 1.0 and will be removed in 1.2. Please use get_feature_names_out instead.\n",
            "  warnings.warn(msg, category=FutureWarning)\n"
          ]
        },
        {
          "output_type": "display_data",
          "data": {
            "image/png": "[encoded data removed]",
            "text/plain": [
              "<Figure size 1080x360 with 1 Axes>"
            ]
          },
          "metadata": {
            "needs_background": "light"
          }
        }
      ]
    },
    {
      "cell_type": "markdown",
      "source": [
        "The AUC value for the logistic model with C = 0.01 is 0.988. The graph above shows that words like \"dies\", \"wins\" are some of the most significant indicator of a clickbait message, and words like \"know\", and \"actually\" are significant indicators of a non-clickbait message.\n",
        "\n"
      ],
      "metadata": {
        "id": "x3sM1NUJ2lqU"
      }
    },
    {
      "cell_type": "markdown",
      "source": [
        "##### Vectorization Method 3 Lemma Tokenizer\n",
        "\n"
      ],
      "metadata": {
        "id": "fnsndvK7CRCl"
      }
    },
    {
      "cell_type": "code",
      "source": [
        "! pip install nltk"
      ],
      "metadata": {
        "colab": {
          "base_uri": "https://localhost:8080/"
        },
        "id": "-DVGLD_cCZiN",
        "outputId": "4ccdf220-9ed4-4e65-c5fa-5cd67cf51b4a"
      },
      "execution_count": 33,
      "outputs": [
        {
          "output_type": "stream",
          "name": "stdout",
          "text": [
            "Requirement already satisfied: nltk in /usr/local/lib/python3.7/dist-packages (3.2.5)\n",
            "Requirement already satisfied: six in /usr/local/lib/python3.7/dist-packages (from nltk) (1.15.0)\n"
          ]
        }
      ]
    },
    {
      "cell_type": "code",
      "source": [
        "import nltk\n",
        "nltk.download('punkt')\n",
        "nltk.download('wordnet')\n",
        "from sklearn.feature_extraction.text import CountVectorizer\n",
        "\n",
        "# instantiate nltk's Porter stemmer\n",
        "stemmer = nltk.stem.PorterStemmer()\n",
        "\n",
        "from nltk import word_tokenize          \n",
        "from nltk.stem import WordNetLemmatizer \n",
        "\n",
        "# nltk.download('punkt') # may need to updated nltk by downloading modules\n",
        "# nltk.download('wordnet') # may need to updated nltk by downloading modules\n",
        "\n",
        "class LemmaTokenizer(object):\n",
        "    def __init__(self):\n",
        "        self.wnl = WordNetLemmatizer()\n",
        "    def __call__(self, doc):\n",
        "        return [self.wnl.lemmatize(t) for t in word_tokenize(doc)]\n",
        "    \n",
        "# define a count vectorizer with the custom tokenizer\n",
        "\n",
        "lemma_vect = CountVectorizer(tokenizer=LemmaTokenizer(), stop_words=\"english\")  "
      ],
      "metadata": {
        "colab": {
          "base_uri": "https://localhost:8080/"
        },
        "id": "bZSIttnECfST",
        "outputId": "e8c88a30-b8bb-4f81-fc60-131431b23a2b"
      },
      "execution_count": 42,
      "outputs": [
        {
          "output_type": "stream",
          "name": "stdout",
          "text": [
            "[nltk_data] Downloading package punkt to /root/nltk_data...\n",
            "[nltk_data]   Package punkt is already up-to-date!\n",
            "[nltk_data] Downloading package wordnet to /root/nltk_data...\n",
            "[nltk_data]   Package wordnet is already up-to-date!\n"
          ]
        }
      ]
    },
    {
      "cell_type": "code",
      "source": [
        "X_train3 = lemma_vect.fit_transform(X_train)\n",
        "X_test3 = lemma_vect.transform(X_test)\n",
        "y_train3 = y_train\n",
        "y_test3 = y_test"
      ],
      "metadata": {
        "id": "lP2lcAJPClL7",
        "colab": {
          "base_uri": "https://localhost:8080/"
        },
        "outputId": "1086158d-f9f8-494b-ac9c-29bcae333d67"
      },
      "execution_count": 43,
      "outputs": [
        {
          "output_type": "stream",
          "name": "stderr",
          "text": [
            "/usr/local/lib/python3.7/dist-packages/sklearn/feature_extraction/text.py:401: UserWarning: Your stop_words may be inconsistent with your preprocessing. Tokenizing the stop words generated tokens ['ha', 'le', 'u', 'wa'] not in stop_words.\n",
            "  % sorted(inconsistent)\n"
          ]
        }
      ]
    },
    {
      "cell_type": "markdown",
      "source": [
        "The third vectorization method would be lemmatokenizer method."
      ],
      "metadata": {
        "id": "z2RiJEiQ3SXe"
      }
    },
    {
      "cell_type": "markdown",
      "source": [
        "Logistic Model 1:"
      ],
      "metadata": {
        "id": "Pi9DazIkDAAB"
      }
    },
    {
      "cell_type": "code",
      "source": [
        "scores = cross_val_score(LogisticRegression(C = 0.1), X_train3, y_train3, cv=5)\n",
        "print(\"Mean cross-validation accuracy: {:.2f}\".format(np.mean(scores)))"
      ],
      "metadata": {
        "colab": {
          "base_uri": "https://localhost:8080/"
        },
        "id": "yrdG1VhTC-Rq",
        "outputId": "5ff4315c-4d72-4b2f-8e18-318ecea79d33"
      },
      "execution_count": 44,
      "outputs": [
        {
          "output_type": "stream",
          "name": "stdout",
          "text": [
            "Mean cross-validation accuracy: 0.93\n"
          ]
        }
      ]
    },
    {
      "cell_type": "markdown",
      "source": [
        "Logistic Model 2:"
      ],
      "metadata": {
        "id": "CkAslSHlDPpF"
      }
    },
    {
      "cell_type": "code",
      "source": [
        "scores = cross_val_score(LogisticRegression(C = 1), X_train3, y_train3, cv=5)\n",
        "print(\"Mean cross-validation accuracy: {:.2f}\".format(np.mean(scores)))"
      ],
      "metadata": {
        "colab": {
          "base_uri": "https://localhost:8080/"
        },
        "id": "kj0pnBAYDQvz",
        "outputId": "221340e2-a5e1-4f96-ffc5-4e113706f812"
      },
      "execution_count": 45,
      "outputs": [
        {
          "output_type": "stream",
          "name": "stdout",
          "text": [
            "Mean cross-validation accuracy: 0.95\n"
          ]
        }
      ]
    },
    {
      "cell_type": "markdown",
      "source": [
        "Logistic Model 3:"
      ],
      "metadata": {
        "id": "bqPrkEyyDTtN"
      }
    },
    {
      "cell_type": "code",
      "source": [
        "scores = cross_val_score(LogisticRegression(C = 0.01), X_train3, y_train3, cv=5)\n",
        "print(\"Mean cross-validation accuracy: {:.2f}\".format(np.mean(scores)))"
      ],
      "metadata": {
        "colab": {
          "base_uri": "https://localhost:8080/"
        },
        "id": "z-C7B3HuDT0n",
        "outputId": "69331a21-a94d-400b-9dfc-0be386c343d7"
      },
      "execution_count": 46,
      "outputs": [
        {
          "output_type": "stream",
          "name": "stdout",
          "text": [
            "Mean cross-validation accuracy: 0.89\n"
          ]
        }
      ]
    },
    {
      "cell_type": "markdown",
      "source": [
        "From the cross-validation accuracy scorew, model 2 with C = 1 should be considered as the best model with the accuracy score of 0.97."
      ],
      "metadata": {
        "id": "3iUCA9OR3fCa"
      }
    },
    {
      "cell_type": "markdown",
      "source": [
        "Final Model:"
      ],
      "metadata": {
        "id": "s-KFWLQMDYtI"
      }
    },
    {
      "cell_type": "code",
      "source": [
        "log_regression = LogisticRegression(C=1)\n",
        "model = log_regression.fit(X_train3, y_train3)\n",
        "\n",
        "y_pred_proba3 = log_regression.predict_proba(X_test3)[:,1]"
      ],
      "metadata": {
        "id": "b8GgDjJkDXBf"
      },
      "execution_count": 47,
      "outputs": []
    },
    {
      "cell_type": "code",
      "source": [
        "from sklearn import metrics\n",
        "auc = metrics.roc_auc_score(y_test3, y_pred_proba3)\n",
        "print(auc)"
      ],
      "metadata": {
        "colab": {
          "base_uri": "https://localhost:8080/"
        },
        "id": "xbgVcUjEDepb",
        "outputId": "4f69b9a7-3f47-4ae0-a326-8bd070e1b6b2"
      },
      "execution_count": 48,
      "outputs": [
        {
          "output_type": "stream",
          "name": "stdout",
          "text": [
            "0.9899192031215882\n"
          ]
        }
      ]
    },
    {
      "cell_type": "code",
      "source": [
        "coefs = model.coef_\n",
        "feature_names = lemma_vect.get_feature_names()\n",
        "\n",
        "visualize_coefficients(coefs, feature_names, n_top_features=20)"
      ],
      "metadata": {
        "colab": {
          "base_uri": "https://localhost:8080/",
          "height": 370
        },
        "id": "sLWQTQQgDh8a",
        "outputId": "6eeeb664-b8a2-4210-866d-7c2b20a57e7d"
      },
      "execution_count": 49,
      "outputs": [
        {
          "output_type": "stream",
          "name": "stderr",
          "text": [
            "/usr/local/lib/python3.7/dist-packages/sklearn/utils/deprecation.py:87: FutureWarning: Function get_feature_names is deprecated; get_feature_names is deprecated in 1.0 and will be removed in 1.2. Please use get_feature_names_out instead.\n",
            "  warnings.warn(msg, category=FutureWarning)\n"
          ]
        },
        {
          "output_type": "display_data",
          "data": {
            "image/png": "[encoded data removed]",
            "text/plain": [
              "<Figure size 1080x360 with 1 Axes>"
            ]
          },
          "metadata": {
            "needs_background": "light"
          }
        }
      ]
    },
    {
      "cell_type": "markdown",
      "source": [
        "The AUC value for the logistic regression model C = 1 is 0.9899. The graph above shows the visualization of the coefficients in the model. We can see that words like \"dy\", \"u.s.\" are some of the significant indicator that a message is a click bait. However, words like \"actually\" and \"know\" are strong indicators that a message is not a click bait. "
      ],
      "metadata": {
        "id": "ej4VO27d30xH"
      }
    },
    {
      "cell_type": "markdown",
      "source": [
        "### Part 2: Build a predictive neural network using Keras"
      ],
      "metadata": {
        "id": "2P-3Gqr5DvUz"
      }
    },
    {
      "cell_type": "code",
      "source": [
        "from tensorflow.keras.models import Sequential\n",
        "import tensorflow.keras as keras\n",
        "from tensorflow.keras.layers import Dense, Dropout, Activation\n",
        "from tensorflow.keras.optimizers import SGD\n",
        "from sklearn.model_selection import GridSearchCV\n",
        "from tensorflow.keras.wrappers.scikit_learn import KerasClassifier"
      ],
      "metadata": {
        "id": "BtTC-1nMIMCC"
      },
      "execution_count": 90,
      "outputs": []
    },
    {
      "cell_type": "code",
      "source": [
        "data = pd.read_csv(\"iris.csv\")\n",
        "\n",
        "data.loc[data[\"Species\"]==\"setosa\",\"Species\"]=0\n",
        "data.loc[data[\"Species\"]==\"versicolor\",\"Species\"]=1\n",
        "data.loc[data[\"Species\"]==\"virginica\",\"Species\"]=2"
      ],
      "metadata": {
        "id": "vaBkzegfDuz9"
      },
      "execution_count": 157,
      "outputs": []
    },
    {
      "cell_type": "code",
      "source": [
        "data = data.iloc[:,1:]\n",
        "y = data['Species']\n",
        "X = data.loc[:, data.columns != 'Species']\n",
        "\n",
        "y = pd.get_dummies(y)"
      ],
      "metadata": {
        "id": "nKHD_cLv4qE2"
      },
      "execution_count": 158,
      "outputs": []
    },
    {
      "cell_type": "code",
      "source": [
        "data.head()"
      ],
      "metadata": {
        "colab": {
          "base_uri": "https://localhost:8080/",
          "height": 206
        },
        "id": "i0TdGgV3D8Zo",
        "outputId": "b7083539-5860-41ec-9072-c0e94c8d3dad"
      },
      "execution_count": 159,
      "outputs": [
        {
          "output_type": "execute_result",
          "data": {
            "text/html": [
              "<div>\n",
              "<style scoped>\n",
              "    .dataframe tbody tr th:only-of-type {\n",
              "        vertical-align: middle;\n",
              "    }\n",
              "\n",
              "    .dataframe tbody tr th {\n",
              "        vertical-align: top;\n",
              "    }\n",
              "\n",
              "    .dataframe thead th {\n",
              "        text-align: right;\n",
              "    }\n",
              "</style>\n",
              "<table border=\"1\" class=\"dataframe\">\n",
              "  <thead>\n",
              "    <tr style=\"text-align: right;\">\n",
              "      <th></th>\n",
              "      <th>Sepal.Length</th>\n",
              "      <th>Sepal.Width</th>\n",
              "      <th>Petal.Length</th>\n",
              "      <th>Petal.Width</th>\n",
              "      <th>Species</th>\n",
              "    </tr>\n",
              "  </thead>\n",
              "  <tbody>\n",
              "    <tr>\n",
              "      <th>0</th>\n",
              "      <td>5.1</td>\n",
              "      <td>3.5</td>\n",
              "      <td>1.4</td>\n",
              "      <td>0.2</td>\n",
              "      <td>0</td>\n",
              "    </tr>\n",
              "    <tr>\n",
              "      <th>1</th>\n",
              "      <td>4.9</td>\n",
              "      <td>3.0</td>\n",
              "      <td>1.4</td>\n",
              "      <td>0.2</td>\n",
              "      <td>0</td>\n",
              "    </tr>\n",
              "    <tr>\n",
              "      <th>2</th>\n",
              "      <td>4.7</td>\n",
              "      <td>3.2</td>\n",
              "      <td>1.3</td>\n",
              "      <td>0.2</td>\n",
              "      <td>0</td>\n",
              "    </tr>\n",
              "    <tr>\n",
              "      <th>3</th>\n",
              "      <td>4.6</td>\n",
              "      <td>3.1</td>\n",
              "      <td>1.5</td>\n",
              "      <td>0.2</td>\n",
              "      <td>0</td>\n",
              "    </tr>\n",
              "    <tr>\n",
              "      <th>4</th>\n",
              "      <td>5.0</td>\n",
              "      <td>3.6</td>\n",
              "      <td>1.4</td>\n",
              "      <td>0.2</td>\n",
              "      <td>0</td>\n",
              "    </tr>\n",
              "  </tbody>\n",
              "</table>\n",
              "</div>"
            ],
            "text/plain": [
              "   Sepal.Length  Sepal.Width  Petal.Length  Petal.Width Species\n",
              "0           5.1          3.5           1.4          0.2       0\n",
              "1           4.9          3.0           1.4          0.2       0\n",
              "2           4.7          3.2           1.3          0.2       0\n",
              "3           4.6          3.1           1.5          0.2       0\n",
              "4           5.0          3.6           1.4          0.2       0"
            ]
          },
          "metadata": {},
          "execution_count": 159
        }
      ]
    },
    {
      "cell_type": "code",
      "source": [
        "X.head()"
      ],
      "metadata": {
        "colab": {
          "base_uri": "https://localhost:8080/",
          "height": 206
        },
        "id": "vAsc1pWs4gxR",
        "outputId": "abd88e92-abc9-4368-bf89-c273bf6323d6"
      },
      "execution_count": 94,
      "outputs": [
        {
          "output_type": "execute_result",
          "data": {
            "text/html": [
              "<div>\n",
              "<style scoped>\n",
              "    .dataframe tbody tr th:only-of-type {\n",
              "        vertical-align: middle;\n",
              "    }\n",
              "\n",
              "    .dataframe tbody tr th {\n",
              "        vertical-align: top;\n",
              "    }\n",
              "\n",
              "    .dataframe thead th {\n",
              "        text-align: right;\n",
              "    }\n",
              "</style>\n",
              "<table border=\"1\" class=\"dataframe\">\n",
              "  <thead>\n",
              "    <tr style=\"text-align: right;\">\n",
              "      <th></th>\n",
              "      <th>Sepal.Length</th>\n",
              "      <th>Sepal.Width</th>\n",
              "      <th>Petal.Length</th>\n",
              "      <th>Petal.Width</th>\n",
              "    </tr>\n",
              "  </thead>\n",
              "  <tbody>\n",
              "    <tr>\n",
              "      <th>0</th>\n",
              "      <td>5.1</td>\n",
              "      <td>3.5</td>\n",
              "      <td>1.4</td>\n",
              "      <td>0.2</td>\n",
              "    </tr>\n",
              "    <tr>\n",
              "      <th>1</th>\n",
              "      <td>4.9</td>\n",
              "      <td>3.0</td>\n",
              "      <td>1.4</td>\n",
              "      <td>0.2</td>\n",
              "    </tr>\n",
              "    <tr>\n",
              "      <th>2</th>\n",
              "      <td>4.7</td>\n",
              "      <td>3.2</td>\n",
              "      <td>1.3</td>\n",
              "      <td>0.2</td>\n",
              "    </tr>\n",
              "    <tr>\n",
              "      <th>3</th>\n",
              "      <td>4.6</td>\n",
              "      <td>3.1</td>\n",
              "      <td>1.5</td>\n",
              "      <td>0.2</td>\n",
              "    </tr>\n",
              "    <tr>\n",
              "      <th>4</th>\n",
              "      <td>5.0</td>\n",
              "      <td>3.6</td>\n",
              "      <td>1.4</td>\n",
              "      <td>0.2</td>\n",
              "    </tr>\n",
              "  </tbody>\n",
              "</table>\n",
              "</div>"
            ],
            "text/plain": [
              "   Sepal.Length  Sepal.Width  Petal.Length  Petal.Width\n",
              "0           5.1          3.5           1.4          0.2\n",
              "1           4.9          3.0           1.4          0.2\n",
              "2           4.7          3.2           1.3          0.2\n",
              "3           4.6          3.1           1.5          0.2\n",
              "4           5.0          3.6           1.4          0.2"
            ]
          },
          "metadata": {},
          "execution_count": 94
        }
      ]
    },
    {
      "cell_type": "code",
      "source": [
        "y.head()"
      ],
      "metadata": {
        "colab": {
          "base_uri": "https://localhost:8080/",
          "height": 206
        },
        "id": "bI-R3FUJ5YfJ",
        "outputId": "c6f927f7-450b-418c-e237-1321b500ef35"
      },
      "execution_count": 95,
      "outputs": [
        {
          "output_type": "execute_result",
          "data": {
            "text/html": [
              "<div>\n",
              "<style scoped>\n",
              "    .dataframe tbody tr th:only-of-type {\n",
              "        vertical-align: middle;\n",
              "    }\n",
              "\n",
              "    .dataframe tbody tr th {\n",
              "        vertical-align: top;\n",
              "    }\n",
              "\n",
              "    .dataframe thead th {\n",
              "        text-align: right;\n",
              "    }\n",
              "</style>\n",
              "<table border=\"1\" class=\"dataframe\">\n",
              "  <thead>\n",
              "    <tr style=\"text-align: right;\">\n",
              "      <th></th>\n",
              "      <th>0</th>\n",
              "      <th>1</th>\n",
              "      <th>2</th>\n",
              "    </tr>\n",
              "  </thead>\n",
              "  <tbody>\n",
              "    <tr>\n",
              "      <th>0</th>\n",
              "      <td>1</td>\n",
              "      <td>0</td>\n",
              "      <td>0</td>\n",
              "    </tr>\n",
              "    <tr>\n",
              "      <th>1</th>\n",
              "      <td>1</td>\n",
              "      <td>0</td>\n",
              "      <td>0</td>\n",
              "    </tr>\n",
              "    <tr>\n",
              "      <th>2</th>\n",
              "      <td>1</td>\n",
              "      <td>0</td>\n",
              "      <td>0</td>\n",
              "    </tr>\n",
              "    <tr>\n",
              "      <th>3</th>\n",
              "      <td>1</td>\n",
              "      <td>0</td>\n",
              "      <td>0</td>\n",
              "    </tr>\n",
              "    <tr>\n",
              "      <th>4</th>\n",
              "      <td>1</td>\n",
              "      <td>0</td>\n",
              "      <td>0</td>\n",
              "    </tr>\n",
              "  </tbody>\n",
              "</table>\n",
              "</div>"
            ],
            "text/plain": [
              "   0  1  2\n",
              "0  1  0  0\n",
              "1  1  0  0\n",
              "2  1  0  0\n",
              "3  1  0  0\n",
              "4  1  0  0"
            ]
          },
          "metadata": {},
          "execution_count": 95
        }
      ]
    },
    {
      "cell_type": "code",
      "source": [
        "print(y.shape)"
      ],
      "metadata": {
        "colab": {
          "base_uri": "https://localhost:8080/"
        },
        "id": "6rnzzJLTQ7HM",
        "outputId": "bc3cb103-7311-46bc-d519-377d00f4af61"
      },
      "execution_count": 96,
      "outputs": [
        {
          "output_type": "stream",
          "name": "stdout",
          "text": [
            "(150, 3)\n"
          ]
        }
      ]
    },
    {
      "cell_type": "code",
      "source": [
        "X_train, X_test, y_train, y_test = train_test_split(X, y, random_state=42)"
      ],
      "metadata": {
        "id": "ZyM-28oMIqj7"
      },
      "execution_count": 160,
      "outputs": []
    },
    {
      "cell_type": "markdown",
      "source": [
        "#### Model 1: Simple Model with hiddennode both 5"
      ],
      "metadata": {
        "id": "Z4rZ8u_7Yv0J"
      }
    },
    {
      "cell_type": "code",
      "source": [
        "model1 = Sequential()\n",
        "model1.add(Dense(5, input_dim=4, activation='relu'))\n",
        "model1.add(Dense(5, activation='relu'))\n",
        "model1.add(Dense(3, activation='softmax'))"
      ],
      "metadata": {
        "id": "6M3yCrYoYbpy"
      },
      "execution_count": 161,
      "outputs": []
    },
    {
      "cell_type": "code",
      "source": [
        "model1.compile(loss='categorical_crossentropy',\n",
        "              optimizer='sgd',\n",
        "              metrics=['accuracy'])"
      ],
      "metadata": {
        "id": "NMQf9C7HY12W"
      },
      "execution_count": 162,
      "outputs": []
    },
    {
      "cell_type": "code",
      "source": [
        "model1.fit(X_train, y_train,\n",
        "          epochs=40,\n",
        "          batch_size=128)"
      ],
      "metadata": {
        "colab": {
          "base_uri": "https://localhost:8080/"
        },
        "id": "1gMZdjqeY8VM",
        "outputId": "7b93256b-18e8-4cda-ef40-ff90a7f0fd42"
      },
      "execution_count": 163,
      "outputs": [
        {
          "output_type": "stream",
          "name": "stdout",
          "text": [
            "Epoch 1/40\n",
            "1/1 [==============================] - 0s 391ms/step - loss: 5.8302 - accuracy: 0.3036\n",
            "Epoch 2/40\n",
            "1/1 [==============================] - 0s 7ms/step - loss: 3.3981 - accuracy: 0.0000e+00\n",
            "Epoch 3/40\n",
            "1/1 [==============================] - 0s 6ms/step - loss: 2.8538 - accuracy: 0.3393\n",
            "Epoch 4/40\n",
            "1/1 [==============================] - 0s 16ms/step - loss: 2.4510 - accuracy: 0.1071\n",
            "Epoch 5/40\n",
            "1/1 [==============================] - 0s 7ms/step - loss: 2.1111 - accuracy: 0.3304\n",
            "Epoch 6/40\n",
            "1/1 [==============================] - 0s 6ms/step - loss: 1.8096 - accuracy: 0.3304\n",
            "Epoch 7/40\n",
            "1/1 [==============================] - 0s 6ms/step - loss: 1.5553 - accuracy: 0.3304\n",
            "Epoch 8/40\n",
            "1/1 [==============================] - 0s 9ms/step - loss: 1.3556 - accuracy: 0.3393\n",
            "Epoch 9/40\n",
            "1/1 [==============================] - 0s 7ms/step - loss: 1.2132 - accuracy: 0.3393\n",
            "Epoch 10/40\n",
            "1/1 [==============================] - 0s 9ms/step - loss: 1.1198 - accuracy: 0.3393\n",
            "Epoch 11/40\n",
            "1/1 [==============================] - 0s 11ms/step - loss: 1.0516 - accuracy: 0.3393\n",
            "Epoch 12/40\n",
            "1/1 [==============================] - 0s 7ms/step - loss: 0.9865 - accuracy: 0.3393\n",
            "Epoch 13/40\n",
            "1/1 [==============================] - 0s 5ms/step - loss: 0.9161 - accuracy: 0.3839\n",
            "Epoch 14/40\n",
            "1/1 [==============================] - 0s 8ms/step - loss: 0.8686 - accuracy: 0.5268\n",
            "Epoch 15/40\n",
            "1/1 [==============================] - 0s 6ms/step - loss: 0.8416 - accuracy: 0.6161\n",
            "Epoch 16/40\n",
            "1/1 [==============================] - 0s 9ms/step - loss: 0.8198 - accuracy: 0.6429\n",
            "Epoch 17/40\n",
            "1/1 [==============================] - 0s 7ms/step - loss: 0.7995 - accuracy: 0.6607\n",
            "Epoch 18/40\n",
            "1/1 [==============================] - 0s 8ms/step - loss: 0.7807 - accuracy: 0.6875\n",
            "Epoch 19/40\n",
            "1/1 [==============================] - 0s 6ms/step - loss: 0.7626 - accuracy: 0.6964\n",
            "Epoch 20/40\n",
            "1/1 [==============================] - 0s 5ms/step - loss: 0.7451 - accuracy: 0.7054\n",
            "Epoch 21/40\n",
            "1/1 [==============================] - 0s 8ms/step - loss: 0.7287 - accuracy: 0.7143\n",
            "Epoch 22/40\n",
            "1/1 [==============================] - 0s 5ms/step - loss: 0.7130 - accuracy: 0.7321\n",
            "Epoch 23/40\n",
            "1/1 [==============================] - 0s 5ms/step - loss: 0.6970 - accuracy: 0.7768\n",
            "Epoch 24/40\n",
            "1/1 [==============================] - 0s 6ms/step - loss: 0.6815 - accuracy: 0.7857\n",
            "Epoch 25/40\n",
            "1/1 [==============================] - 0s 9ms/step - loss: 0.6670 - accuracy: 0.8036\n",
            "Epoch 26/40\n",
            "1/1 [==============================] - 0s 6ms/step - loss: 0.6538 - accuracy: 0.7946\n",
            "Epoch 27/40\n",
            "1/1 [==============================] - 0s 7ms/step - loss: 0.6417 - accuracy: 0.7857\n",
            "Epoch 28/40\n",
            "1/1 [==============================] - 0s 8ms/step - loss: 0.6309 - accuracy: 0.7946\n",
            "Epoch 29/40\n",
            "1/1 [==============================] - 0s 8ms/step - loss: 0.6212 - accuracy: 0.7946\n",
            "Epoch 30/40\n",
            "1/1 [==============================] - 0s 9ms/step - loss: 0.6124 - accuracy: 0.7946\n",
            "Epoch 31/40\n",
            "1/1 [==============================] - 0s 6ms/step - loss: 0.6044 - accuracy: 0.7946\n",
            "Epoch 32/40\n",
            "1/1 [==============================] - 0s 5ms/step - loss: 0.5972 - accuracy: 0.7946\n",
            "Epoch 33/40\n",
            "1/1 [==============================] - 0s 6ms/step - loss: 0.5905 - accuracy: 0.7946\n",
            "Epoch 34/40\n",
            "1/1 [==============================] - 0s 15ms/step - loss: 0.5843 - accuracy: 0.7946\n",
            "Epoch 35/40\n",
            "1/1 [==============================] - 0s 11ms/step - loss: 0.5786 - accuracy: 0.8036\n",
            "Epoch 36/40\n",
            "1/1 [==============================] - 0s 6ms/step - loss: 0.5733 - accuracy: 0.8036\n",
            "Epoch 37/40\n",
            "1/1 [==============================] - 0s 6ms/step - loss: 0.5684 - accuracy: 0.8036\n",
            "Epoch 38/40\n",
            "1/1 [==============================] - 0s 11ms/step - loss: 0.5639 - accuracy: 0.8125\n",
            "Epoch 39/40\n",
            "1/1 [==============================] - 0s 10ms/step - loss: 0.5597 - accuracy: 0.8125\n",
            "Epoch 40/40\n",
            "1/1 [==============================] - 0s 10ms/step - loss: 0.5559 - accuracy: 0.8125\n"
          ]
        },
        {
          "output_type": "execute_result",
          "data": {
            "text/plain": [
              "<keras.callbacks.History at 0x7f1a073ccd10>"
            ]
          },
          "metadata": {},
          "execution_count": 163
        }
      ]
    },
    {
      "cell_type": "code",
      "source": [
        "results = model1.evaluate(X_test, y_test)\n",
        "\n",
        "print('Final test set loss: {:4f}'.format(results[0]))\n",
        "print('Final test set accuracy: {:4f}'.format(results[1]))"
      ],
      "metadata": {
        "colab": {
          "base_uri": "https://localhost:8080/"
        },
        "id": "ruzo7E_2ZHgU",
        "outputId": "4912184d-2f82-436d-c85b-dbb3bb6463d6"
      },
      "execution_count": 164,
      "outputs": [
        {
          "output_type": "stream",
          "name": "stdout",
          "text": [
            "2/2 [==============================] - 0s 7ms/step - loss: 0.5154 - accuracy: 0.8421\n",
            "Final test set loss: 0.515366\n",
            "Final test set accuracy: 0.842105\n"
          ]
        }
      ]
    },
    {
      "cell_type": "markdown",
      "source": [
        "#### Model 2: Simple model with hiddenodes both 10"
      ],
      "metadata": {
        "id": "v1ItwvGyZO1-"
      }
    },
    {
      "cell_type": "code",
      "source": [
        "model2 = Sequential()\n",
        "model2.add(Dense(10, input_dim=4, activation='relu'))\n",
        "model2.add(Dense(10, activation='relu'))\n",
        "model2.add(Dense(3, activation='softmax'))"
      ],
      "metadata": {
        "id": "I5AiPR2EZY9H"
      },
      "execution_count": 165,
      "outputs": []
    },
    {
      "cell_type": "code",
      "source": [
        "model2.compile(loss='categorical_crossentropy',\n",
        "              optimizer='sgd',\n",
        "              metrics=['accuracy'])"
      ],
      "metadata": {
        "id": "d9cXEQ_2ZdHS"
      },
      "execution_count": 166,
      "outputs": []
    },
    {
      "cell_type": "code",
      "source": [
        "model2.fit(X_train, y_train,\n",
        "          epochs=40,\n",
        "          batch_size=128)"
      ],
      "metadata": {
        "colab": {
          "base_uri": "https://localhost:8080/"
        },
        "id": "4CNVVvvKZfET",
        "outputId": "52006d3a-41aa-4ac6-db32-627894d8b7c7"
      },
      "execution_count": 167,
      "outputs": [
        {
          "output_type": "stream",
          "name": "stdout",
          "text": [
            "Epoch 1/40\n",
            "1/1 [==============================] - 0s 395ms/step - loss: 1.8949 - accuracy: 0.3125\n",
            "Epoch 2/40\n",
            "1/1 [==============================] - 0s 6ms/step - loss: 1.6877 - accuracy: 0.3125\n",
            "Epoch 3/40\n",
            "1/1 [==============================] - 0s 9ms/step - loss: 1.5308 - accuracy: 0.3125\n",
            "Epoch 4/40\n",
            "1/1 [==============================] - 0s 6ms/step - loss: 1.4119 - accuracy: 0.3125\n",
            "Epoch 5/40\n",
            "1/1 [==============================] - 0s 6ms/step - loss: 1.3212 - accuracy: 0.3125\n",
            "Epoch 6/40\n",
            "1/1 [==============================] - 0s 10ms/step - loss: 1.2522 - accuracy: 0.3125\n",
            "Epoch 7/40\n",
            "1/1 [==============================] - 0s 7ms/step - loss: 1.2000 - accuracy: 0.3125\n",
            "Epoch 8/40\n",
            "1/1 [==============================] - 0s 8ms/step - loss: 1.1606 - accuracy: 0.3125\n",
            "Epoch 9/40\n",
            "1/1 [==============================] - 0s 5ms/step - loss: 1.1307 - accuracy: 0.3125\n",
            "Epoch 10/40\n",
            "1/1 [==============================] - 0s 6ms/step - loss: 1.1079 - accuracy: 0.3125\n",
            "Epoch 11/40\n",
            "1/1 [==============================] - 0s 11ms/step - loss: 1.0902 - accuracy: 0.3125\n",
            "Epoch 12/40\n",
            "1/1 [==============================] - 0s 8ms/step - loss: 1.0762 - accuracy: 0.3125\n",
            "Epoch 13/40\n",
            "1/1 [==============================] - 0s 8ms/step - loss: 1.0650 - accuracy: 0.3661\n",
            "Epoch 14/40\n",
            "1/1 [==============================] - 0s 5ms/step - loss: 1.0557 - accuracy: 0.6518\n",
            "Epoch 15/40\n",
            "1/1 [==============================] - 0s 8ms/step - loss: 1.0478 - accuracy: 0.6518\n",
            "Epoch 16/40\n",
            "1/1 [==============================] - 0s 5ms/step - loss: 1.0410 - accuracy: 0.6518\n",
            "Epoch 17/40\n",
            "1/1 [==============================] - 0s 9ms/step - loss: 1.0350 - accuracy: 0.6518\n",
            "Epoch 18/40\n",
            "1/1 [==============================] - 0s 11ms/step - loss: 1.0297 - accuracy: 0.6518\n",
            "Epoch 19/40\n",
            "1/1 [==============================] - 0s 12ms/step - loss: 1.0251 - accuracy: 0.6518\n",
            "Epoch 20/40\n",
            "1/1 [==============================] - 0s 11ms/step - loss: 1.0210 - accuracy: 0.6518\n",
            "Epoch 21/40\n",
            "1/1 [==============================] - 0s 9ms/step - loss: 1.0173 - accuracy: 0.6518\n",
            "Epoch 22/40\n",
            "1/1 [==============================] - 0s 12ms/step - loss: 1.0138 - accuracy: 0.6518\n",
            "Epoch 23/40\n",
            "1/1 [==============================] - 0s 6ms/step - loss: 1.0105 - accuracy: 0.6518\n",
            "Epoch 24/40\n",
            "1/1 [==============================] - 0s 8ms/step - loss: 1.0074 - accuracy: 0.6518\n",
            "Epoch 25/40\n",
            "1/1 [==============================] - 0s 8ms/step - loss: 1.0045 - accuracy: 0.6518\n",
            "Epoch 26/40\n",
            "1/1 [==============================] - 0s 7ms/step - loss: 1.0017 - accuracy: 0.6518\n",
            "Epoch 27/40\n",
            "1/1 [==============================] - 0s 7ms/step - loss: 0.9990 - accuracy: 0.6518\n",
            "Epoch 28/40\n",
            "1/1 [==============================] - 0s 10ms/step - loss: 0.9964 - accuracy: 0.6518\n",
            "Epoch 29/40\n",
            "1/1 [==============================] - 0s 5ms/step - loss: 0.9939 - accuracy: 0.6518\n",
            "Epoch 30/40\n",
            "1/1 [==============================] - 0s 7ms/step - loss: 0.9915 - accuracy: 0.6518\n",
            "Epoch 31/40\n",
            "1/1 [==============================] - 0s 8ms/step - loss: 0.9891 - accuracy: 0.6518\n",
            "Epoch 32/40\n",
            "1/1 [==============================] - 0s 7ms/step - loss: 0.9867 - accuracy: 0.6518\n",
            "Epoch 33/40\n",
            "1/1 [==============================] - 0s 6ms/step - loss: 0.9844 - accuracy: 0.6518\n",
            "Epoch 34/40\n",
            "1/1 [==============================] - 0s 6ms/step - loss: 0.9822 - accuracy: 0.6518\n",
            "Epoch 35/40\n",
            "1/1 [==============================] - 0s 6ms/step - loss: 0.9799 - accuracy: 0.6518\n",
            "Epoch 36/40\n",
            "1/1 [==============================] - 0s 8ms/step - loss: 0.9777 - accuracy: 0.6518\n",
            "Epoch 37/40\n",
            "1/1 [==============================] - 0s 5ms/step - loss: 0.9756 - accuracy: 0.6518\n",
            "Epoch 38/40\n",
            "1/1 [==============================] - 0s 5ms/step - loss: 0.9734 - accuracy: 0.6518\n",
            "Epoch 39/40\n",
            "1/1 [==============================] - 0s 5ms/step - loss: 0.9712 - accuracy: 0.6518\n",
            "Epoch 40/40\n",
            "1/1 [==============================] - 0s 4ms/step - loss: 0.9691 - accuracy: 0.6429\n"
          ]
        },
        {
          "output_type": "execute_result",
          "data": {
            "text/plain": [
              "<keras.callbacks.History at 0x7f1a1c6e0250>"
            ]
          },
          "metadata": {},
          "execution_count": 167
        }
      ]
    },
    {
      "cell_type": "code",
      "source": [
        "results = model2.evaluate(X_test, y_test)\n",
        "\n",
        "print('Final test set loss: {:4f}'.format(results[0]))\n",
        "print('Final test set accuracy: {:4f}'.format(results[1]))"
      ],
      "metadata": {
        "colab": {
          "base_uri": "https://localhost:8080/"
        },
        "id": "SQ1tSSG-Zz9R",
        "outputId": "a155ef95-4dc2-4c22-d326-e91450621976"
      },
      "execution_count": 169,
      "outputs": [
        {
          "output_type": "stream",
          "name": "stdout",
          "text": [
            "2/2 [==============================] - 0s 6ms/step - loss: 0.9716 - accuracy: 0.7105\n",
            "Final test set loss: 0.971609\n",
            "Final test set accuracy: 0.710526\n"
          ]
        }
      ]
    },
    {
      "cell_type": "markdown",
      "source": [
        "The final test set accuracy for model 2 is 0.71, which is lower than the test set accuracy for model 1, which is the model with number of hiddennodes in each layer of 5.\n",
        "\n",
        "Therefore, we cannot conclude that a larger number of hiddennodes in each layer will result in a better result. "
      ],
      "metadata": {
        "id": "WcnFBfC0aB3L"
      }
    },
    {
      "cell_type": "markdown",
      "source": [
        "#### Model 3: GridSearchCV on the number of hidden nodes. "
      ],
      "metadata": {
        "id": "uTNMCghhVyVt"
      }
    },
    {
      "cell_type": "code",
      "source": [
        "def create_model(hiddennodes1 = 1, hiddennodes2 = 1):\n",
        "\t# create model\n",
        "\tmodel = Sequential()\n",
        "\tmodel.add(Dense(hiddennodes1, input_dim=4, activation='relu'))\n",
        "\tmodel.add(Dense(hiddennodes2, activation='relu'))\n",
        "\tmodel.add(Dense(3, activation='softmax'))\n",
        " \n",
        "\t# Compile model\n",
        "\tmodel.compile(loss='categorical_crossentropy', optimizer='sgd', metrics=['accuracy'])\n",
        "\treturn model\n",
        "\n",
        "model = KerasClassifier(build_fn=create_model, epochs=100, verbose=0) # epochs arg is built in to Scikit learn's... \n",
        "                                                                      # KerasClassifier\n",
        "\n",
        "# Building a simple search grid that adjusts epochs\n",
        "param_grid = dict(hiddennodes1=[1,5,10,20,30], hiddennodes2=[1,5,10,20,30])\n",
        "grid = GridSearchCV(estimator=model, param_grid=param_grid)\n",
        "grid_result = grid.fit(X_train, y_train)"
      ],
      "metadata": {
        "colab": {
          "base_uri": "https://localhost:8080/"
        },
        "id": "29JgabZdQ3So",
        "outputId": "8933443f-c6ff-441d-9735-a0bc74b5a2d0"
      },
      "execution_count": 170,
      "outputs": [
        {
          "output_type": "stream",
          "name": "stderr",
          "text": [
            "/usr/local/lib/python3.7/dist-packages/ipykernel_launcher.py:12: DeprecationWarning: KerasClassifier is deprecated, use Sci-Keras (https://github.com/adriangb/scikeras) instead.\n",
            "  if sys.path[0] == '':\n"
          ]
        }
      ]
    },
    {
      "cell_type": "code",
      "source": [
        "print(\"Best: %f using %s\" % (grid_result.best_score_, grid_result.best_params_))"
      ],
      "metadata": {
        "colab": {
          "base_uri": "https://localhost:8080/"
        },
        "id": "pHLR83kmT_qx",
        "outputId": "22af2793-b18a-4680-cadf-690411a42407"
      },
      "execution_count": 171,
      "outputs": [
        {
          "output_type": "stream",
          "name": "stdout",
          "text": [
            "Best: 0.972727 using {'hiddennodes1': 20, 'hiddennodes2': 30}\n"
          ]
        }
      ]
    },
    {
      "cell_type": "markdown",
      "source": [
        "We are using GridsearchCV to tune the number of hidden nodes in each hidden layer, and according to the result above, the best number of hidden nodes for the model would be 20 in layer 1 and 30 in layer 2. \n",
        "\n",
        "That's also the number of hidden nodes to include for the model. "
      ],
      "metadata": {
        "id": "Trl5pnbkUaaI"
      }
    },
    {
      "cell_type": "code",
      "source": [
        "model = Sequential()\n",
        "model.add(Dense(20, input_dim=4, activation='relu'))\n",
        "model.add(Dense(30, activation='relu'))\n",
        "model.add(Dense(3, activation='softmax'))\n",
        " \n",
        "model.compile(loss='categorical_crossentropy',\n",
        "              optimizer='sgd',\n",
        "              metrics=['accuracy'])\n",
        "\n",
        "model.summary()"
      ],
      "metadata": {
        "colab": {
          "base_uri": "https://localhost:8080/"
        },
        "id": "qzJhGfgmXy7j",
        "outputId": "ea5e6697-2787-49b4-83e5-b0071cfff0dd"
      },
      "execution_count": 173,
      "outputs": [
        {
          "output_type": "stream",
          "name": "stdout",
          "text": [
            "Model: \"sequential_386\"\n",
            "_________________________________________________________________\n",
            " Layer (type)                Output Shape              Param #   \n",
            "=================================================================\n",
            " dense_1158 (Dense)          (None, 20)                100       \n",
            "                                                                 \n",
            " dense_1159 (Dense)          (None, 30)                630       \n",
            "                                                                 \n",
            " dense_1160 (Dense)          (None, 3)                 93        \n",
            "                                                                 \n",
            "=================================================================\n",
            "Total params: 823\n",
            "Trainable params: 823\n",
            "Non-trainable params: 0\n",
            "_________________________________________________________________\n"
          ]
        }
      ]
    },
    {
      "cell_type": "code",
      "source": [
        "model_history = model.fit(X_train, y_train, verbose=2, batch_size=5, epochs=100)"
      ],
      "metadata": {
        "colab": {
          "base_uri": "https://localhost:8080/"
        },
        "id": "uqiC6YVn7N4-",
        "outputId": "7abdf0cd-cc48-49f4-cd82-38c0af601904"
      },
      "execution_count": 174,
      "outputs": [
        {
          "output_type": "stream",
          "name": "stdout",
          "text": [
            "Epoch 1/100\n",
            "23/23 - 0s - loss: 1.2337 - accuracy: 0.2411 - 403ms/epoch - 18ms/step\n",
            "Epoch 2/100\n",
            "23/23 - 0s - loss: 0.8823 - accuracy: 0.6518 - 35ms/epoch - 2ms/step\n",
            "Epoch 3/100\n",
            "23/23 - 0s - loss: 0.7450 - accuracy: 0.6339 - 27ms/epoch - 1ms/step\n",
            "Epoch 4/100\n",
            "23/23 - 0s - loss: 0.6540 - accuracy: 0.6339 - 31ms/epoch - 1ms/step\n",
            "Epoch 5/100\n",
            "23/23 - 0s - loss: 0.5943 - accuracy: 0.7054 - 29ms/epoch - 1ms/step\n",
            "Epoch 6/100\n",
            "23/23 - 0s - loss: 0.5354 - accuracy: 0.7500 - 35ms/epoch - 2ms/step\n",
            "Epoch 7/100\n",
            "23/23 - 0s - loss: 0.4930 - accuracy: 0.7589 - 37ms/epoch - 2ms/step\n",
            "Epoch 8/100\n",
            "23/23 - 0s - loss: 0.4925 - accuracy: 0.8214 - 47ms/epoch - 2ms/step\n",
            "Epoch 9/100\n",
            "23/23 - 0s - loss: 0.4366 - accuracy: 0.8393 - 44ms/epoch - 2ms/step\n",
            "Epoch 10/100\n",
            "23/23 - 0s - loss: 0.4249 - accuracy: 0.8214 - 32ms/epoch - 1ms/step\n",
            "Epoch 11/100\n",
            "23/23 - 0s - loss: 0.3931 - accuracy: 0.8393 - 26ms/epoch - 1ms/step\n",
            "Epoch 12/100\n",
            "23/23 - 0s - loss: 0.3823 - accuracy: 0.8750 - 36ms/epoch - 2ms/step\n",
            "Epoch 13/100\n",
            "23/23 - 0s - loss: 0.3644 - accuracy: 0.8661 - 37ms/epoch - 2ms/step\n",
            "Epoch 14/100\n",
            "23/23 - 0s - loss: 0.3492 - accuracy: 0.9107 - 32ms/epoch - 1ms/step\n",
            "Epoch 15/100\n",
            "23/23 - 0s - loss: 0.3396 - accuracy: 0.8929 - 32ms/epoch - 1ms/step\n",
            "Epoch 16/100\n",
            "23/23 - 0s - loss: 0.3229 - accuracy: 0.8750 - 34ms/epoch - 1ms/step\n",
            "Epoch 17/100\n",
            "23/23 - 0s - loss: 0.3148 - accuracy: 0.9018 - 35ms/epoch - 2ms/step\n",
            "Epoch 18/100\n",
            "23/23 - 0s - loss: 0.2845 - accuracy: 0.9196 - 31ms/epoch - 1ms/step\n",
            "Epoch 19/100\n",
            "23/23 - 0s - loss: 0.2956 - accuracy: 0.9196 - 33ms/epoch - 1ms/step\n",
            "Epoch 20/100\n",
            "23/23 - 0s - loss: 0.2751 - accuracy: 0.9196 - 49ms/epoch - 2ms/step\n",
            "Epoch 21/100\n",
            "23/23 - 0s - loss: 0.2526 - accuracy: 0.9464 - 32ms/epoch - 1ms/step\n",
            "Epoch 22/100\n",
            "23/23 - 0s - loss: 0.2512 - accuracy: 0.9286 - 32ms/epoch - 1ms/step\n",
            "Epoch 23/100\n",
            "23/23 - 0s - loss: 0.2494 - accuracy: 0.9107 - 32ms/epoch - 1ms/step\n",
            "Epoch 24/100\n",
            "23/23 - 0s - loss: 0.2307 - accuracy: 0.9196 - 36ms/epoch - 2ms/step\n",
            "Epoch 25/100\n",
            "23/23 - 0s - loss: 0.2336 - accuracy: 0.9196 - 36ms/epoch - 2ms/step\n",
            "Epoch 26/100\n",
            "23/23 - 0s - loss: 0.2039 - accuracy: 0.9464 - 29ms/epoch - 1ms/step\n",
            "Epoch 27/100\n",
            "23/23 - 0s - loss: 0.1986 - accuracy: 0.9286 - 29ms/epoch - 1ms/step\n",
            "Epoch 28/100\n",
            "23/23 - 0s - loss: 0.1996 - accuracy: 0.9375 - 32ms/epoch - 1ms/step\n",
            "Epoch 29/100\n",
            "23/23 - 0s - loss: 0.2033 - accuracy: 0.9375 - 41ms/epoch - 2ms/step\n",
            "Epoch 30/100\n",
            "23/23 - 0s - loss: 0.2066 - accuracy: 0.9375 - 34ms/epoch - 1ms/step\n",
            "Epoch 31/100\n",
            "23/23 - 0s - loss: 0.1891 - accuracy: 0.9375 - 31ms/epoch - 1ms/step\n",
            "Epoch 32/100\n",
            "23/23 - 0s - loss: 0.1806 - accuracy: 0.9464 - 34ms/epoch - 1ms/step\n",
            "Epoch 33/100\n",
            "23/23 - 0s - loss: 0.2273 - accuracy: 0.8839 - 34ms/epoch - 1ms/step\n",
            "Epoch 34/100\n",
            "23/23 - 0s - loss: 0.1589 - accuracy: 0.9464 - 34ms/epoch - 1ms/step\n",
            "Epoch 35/100\n",
            "23/23 - 0s - loss: 0.2334 - accuracy: 0.9107 - 40ms/epoch - 2ms/step\n",
            "Epoch 36/100\n",
            "23/23 - 0s - loss: 0.1897 - accuracy: 0.9286 - 39ms/epoch - 2ms/step\n",
            "Epoch 37/100\n",
            "23/23 - 0s - loss: 0.1884 - accuracy: 0.9286 - 34ms/epoch - 1ms/step\n",
            "Epoch 38/100\n",
            "23/23 - 0s - loss: 0.1801 - accuracy: 0.9375 - 31ms/epoch - 1ms/step\n",
            "Epoch 39/100\n",
            "23/23 - 0s - loss: 0.1463 - accuracy: 0.9643 - 30ms/epoch - 1ms/step\n",
            "Epoch 40/100\n",
            "23/23 - 0s - loss: 0.1407 - accuracy: 0.9464 - 33ms/epoch - 1ms/step\n",
            "Epoch 41/100\n",
            "23/23 - 0s - loss: 0.1609 - accuracy: 0.9286 - 36ms/epoch - 2ms/step\n",
            "Epoch 42/100\n",
            "23/23 - 0s - loss: 0.1632 - accuracy: 0.9375 - 39ms/epoch - 2ms/step\n",
            "Epoch 43/100\n",
            "23/23 - 0s - loss: 0.1614 - accuracy: 0.9375 - 30ms/epoch - 1ms/step\n",
            "Epoch 44/100\n",
            "23/23 - 0s - loss: 0.1712 - accuracy: 0.9554 - 32ms/epoch - 1ms/step\n",
            "Epoch 45/100\n",
            "23/23 - 0s - loss: 0.1182 - accuracy: 0.9732 - 34ms/epoch - 1ms/step\n",
            "Epoch 46/100\n",
            "23/23 - 0s - loss: 0.1533 - accuracy: 0.9375 - 30ms/epoch - 1ms/step\n",
            "Epoch 47/100\n",
            "23/23 - 0s - loss: 0.1423 - accuracy: 0.9643 - 32ms/epoch - 1ms/step\n",
            "Epoch 48/100\n",
            "23/23 - 0s - loss: 0.1378 - accuracy: 0.9643 - 35ms/epoch - 2ms/step\n",
            "Epoch 49/100\n",
            "23/23 - 0s - loss: 0.1564 - accuracy: 0.9464 - 35ms/epoch - 2ms/step\n",
            "Epoch 50/100\n",
            "23/23 - 0s - loss: 0.1571 - accuracy: 0.9464 - 32ms/epoch - 1ms/step\n",
            "Epoch 51/100\n",
            "23/23 - 0s - loss: 0.1589 - accuracy: 0.9554 - 34ms/epoch - 1ms/step\n",
            "Epoch 52/100\n",
            "23/23 - 0s - loss: 0.1815 - accuracy: 0.9196 - 29ms/epoch - 1ms/step\n",
            "Epoch 53/100\n",
            "23/23 - 0s - loss: 0.1411 - accuracy: 0.9464 - 30ms/epoch - 1ms/step\n",
            "Epoch 54/100\n",
            "23/23 - 0s - loss: 0.1911 - accuracy: 0.9107 - 29ms/epoch - 1ms/step\n",
            "Epoch 55/100\n",
            "23/23 - 0s - loss: 0.1219 - accuracy: 0.9732 - 34ms/epoch - 1ms/step\n",
            "Epoch 56/100\n",
            "23/23 - 0s - loss: 0.0887 - accuracy: 0.9821 - 31ms/epoch - 1ms/step\n",
            "Epoch 57/100\n",
            "23/23 - 0s - loss: 0.1683 - accuracy: 0.9107 - 39ms/epoch - 2ms/step\n",
            "Epoch 58/100\n",
            "23/23 - 0s - loss: 0.1045 - accuracy: 0.9732 - 40ms/epoch - 2ms/step\n",
            "Epoch 59/100\n",
            "23/23 - 0s - loss: 0.3027 - accuracy: 0.9018 - 31ms/epoch - 1ms/step\n",
            "Epoch 60/100\n",
            "23/23 - 0s - loss: 0.1132 - accuracy: 0.9554 - 39ms/epoch - 2ms/step\n",
            "Epoch 61/100\n",
            "23/23 - 0s - loss: 0.1267 - accuracy: 0.9554 - 41ms/epoch - 2ms/step\n",
            "Epoch 62/100\n",
            "23/23 - 0s - loss: 0.1040 - accuracy: 0.9554 - 26ms/epoch - 1ms/step\n",
            "Epoch 63/100\n",
            "23/23 - 0s - loss: 0.1420 - accuracy: 0.9464 - 36ms/epoch - 2ms/step\n",
            "Epoch 64/100\n",
            "23/23 - 0s - loss: 0.1189 - accuracy: 0.9643 - 35ms/epoch - 2ms/step\n",
            "Epoch 65/100\n",
            "23/23 - 0s - loss: 0.1190 - accuracy: 0.9643 - 37ms/epoch - 2ms/step\n",
            "Epoch 66/100\n",
            "23/23 - 0s - loss: 0.1182 - accuracy: 0.9464 - 32ms/epoch - 1ms/step\n",
            "Epoch 67/100\n",
            "23/23 - 0s - loss: 0.1630 - accuracy: 0.9375 - 42ms/epoch - 2ms/step\n",
            "Epoch 68/100\n",
            "23/23 - 0s - loss: 0.1436 - accuracy: 0.9375 - 32ms/epoch - 1ms/step\n",
            "Epoch 69/100\n",
            "23/23 - 0s - loss: 0.0849 - accuracy: 0.9643 - 32ms/epoch - 1ms/step\n",
            "Epoch 70/100\n",
            "23/23 - 0s - loss: 0.1934 - accuracy: 0.9107 - 30ms/epoch - 1ms/step\n",
            "Epoch 71/100\n",
            "23/23 - 0s - loss: 0.1107 - accuracy: 0.9643 - 30ms/epoch - 1ms/step\n",
            "Epoch 72/100\n",
            "23/23 - 0s - loss: 0.1678 - accuracy: 0.9286 - 30ms/epoch - 1ms/step\n",
            "Epoch 73/100\n",
            "23/23 - 0s - loss: 0.1236 - accuracy: 0.9554 - 34ms/epoch - 1ms/step\n",
            "Epoch 74/100\n",
            "23/23 - 0s - loss: 0.1251 - accuracy: 0.9464 - 31ms/epoch - 1ms/step\n",
            "Epoch 75/100\n",
            "23/23 - 0s - loss: 0.1159 - accuracy: 0.9643 - 35ms/epoch - 2ms/step\n",
            "Epoch 76/100\n",
            "23/23 - 0s - loss: 0.1095 - accuracy: 0.9643 - 31ms/epoch - 1ms/step\n",
            "Epoch 77/100\n",
            "23/23 - 0s - loss: 0.1103 - accuracy: 0.9643 - 34ms/epoch - 1ms/step\n",
            "Epoch 78/100\n",
            "23/23 - 0s - loss: 0.1756 - accuracy: 0.9375 - 34ms/epoch - 1ms/step\n",
            "Epoch 79/100\n",
            "23/23 - 0s - loss: 0.1078 - accuracy: 0.9732 - 30ms/epoch - 1ms/step\n",
            "Epoch 80/100\n",
            "23/23 - 0s - loss: 0.1547 - accuracy: 0.9286 - 32ms/epoch - 1ms/step\n",
            "Epoch 81/100\n",
            "23/23 - 0s - loss: 0.1490 - accuracy: 0.9464 - 34ms/epoch - 1ms/step\n",
            "Epoch 82/100\n",
            "23/23 - 0s - loss: 0.1039 - accuracy: 0.9732 - 35ms/epoch - 2ms/step\n",
            "Epoch 83/100\n",
            "23/23 - 0s - loss: 0.1145 - accuracy: 0.9643 - 35ms/epoch - 2ms/step\n",
            "Epoch 84/100\n",
            "23/23 - 0s - loss: 0.0938 - accuracy: 0.9821 - 31ms/epoch - 1ms/step\n",
            "Epoch 85/100\n",
            "23/23 - 0s - loss: 0.1085 - accuracy: 0.9643 - 31ms/epoch - 1ms/step\n",
            "Epoch 86/100\n",
            "23/23 - 0s - loss: 0.1156 - accuracy: 0.9732 - 33ms/epoch - 1ms/step\n",
            "Epoch 87/100\n",
            "23/23 - 0s - loss: 0.1232 - accuracy: 0.9554 - 34ms/epoch - 1ms/step\n",
            "Epoch 88/100\n",
            "23/23 - 0s - loss: 0.0970 - accuracy: 0.9732 - 35ms/epoch - 2ms/step\n",
            "Epoch 89/100\n",
            "23/23 - 0s - loss: 0.1019 - accuracy: 0.9643 - 33ms/epoch - 1ms/step\n",
            "Epoch 90/100\n",
            "23/23 - 0s - loss: 0.1322 - accuracy: 0.9464 - 38ms/epoch - 2ms/step\n",
            "Epoch 91/100\n",
            "23/23 - 0s - loss: 0.1077 - accuracy: 0.9732 - 32ms/epoch - 1ms/step\n",
            "Epoch 92/100\n",
            "23/23 - 0s - loss: 0.1648 - accuracy: 0.9107 - 32ms/epoch - 1ms/step\n",
            "Epoch 93/100\n",
            "23/23 - 0s - loss: 0.1406 - accuracy: 0.9375 - 35ms/epoch - 2ms/step\n",
            "Epoch 94/100\n",
            "23/23 - 0s - loss: 0.1323 - accuracy: 0.9464 - 31ms/epoch - 1ms/step\n",
            "Epoch 95/100\n",
            "23/23 - 0s - loss: 0.1208 - accuracy: 0.9732 - 33ms/epoch - 1ms/step\n",
            "Epoch 96/100\n",
            "23/23 - 0s - loss: 0.0917 - accuracy: 0.9643 - 31ms/epoch - 1ms/step\n",
            "Epoch 97/100\n",
            "23/23 - 0s - loss: 0.1544 - accuracy: 0.9375 - 38ms/epoch - 2ms/step\n",
            "Epoch 98/100\n",
            "23/23 - 0s - loss: 0.1178 - accuracy: 0.9554 - 36ms/epoch - 2ms/step\n",
            "Epoch 99/100\n",
            "23/23 - 0s - loss: 0.1420 - accuracy: 0.9286 - 32ms/epoch - 1ms/step\n",
            "Epoch 100/100\n",
            "23/23 - 0s - loss: 0.1156 - accuracy: 0.9643 - 32ms/epoch - 1ms/step\n"
          ]
        }
      ]
    },
    {
      "cell_type": "markdown",
      "source": [
        "##### Evaluting using test dataset."
      ],
      "metadata": {
        "id": "S00P-DoJUvv8"
      }
    },
    {
      "cell_type": "code",
      "source": [
        "results = model.evaluate(X_test, y_test)\n",
        "\n",
        "print('Final test set loss: {:4f}'.format(results[0]))\n",
        "print('Final test set accuracy: {:4f}'.format(results[1]))"
      ],
      "metadata": {
        "colab": {
          "base_uri": "https://localhost:8080/"
        },
        "id": "EggmyAuO6jYi",
        "outputId": "48efa037-2ae7-4687-af73-f5992f69517b"
      },
      "execution_count": 129,
      "outputs": [
        {
          "output_type": "stream",
          "name": "stdout",
          "text": [
            "2/2 [==============================] - 0s 5ms/step - loss: 0.0604 - accuracy: 1.0000\n",
            "Final test set loss: 0.060438\n",
            "Final test set accuracy: 1.000000\n"
          ]
        }
      ]
    },
    {
      "cell_type": "code",
      "source": [
        "y_test.shape"
      ],
      "metadata": {
        "colab": {
          "base_uri": "https://localhost:8080/"
        },
        "id": "27gCDWxIMX6I",
        "outputId": "0ceb8fb3-bbcf-4b90-96d1-0a53e19fba82"
      },
      "execution_count": 175,
      "outputs": [
        {
          "output_type": "execute_result",
          "data": {
            "text/plain": [
              "(38, 3)"
            ]
          },
          "metadata": {},
          "execution_count": 175
        }
      ]
    },
    {
      "cell_type": "code",
      "source": [
        "prediction=model.predict(X_test)\n",
        "length=len(prediction)\n",
        "y_label= np.argmax(model.predict(X_test), axis=-1)\n",
        "predict_label=np.argmax(prediction,axis=1)"
      ],
      "metadata": {
        "id": "_VP_dapKMQ_k"
      },
      "execution_count": 176,
      "outputs": []
    },
    {
      "cell_type": "code",
      "source": [
        "predict_label"
      ],
      "metadata": {
        "colab": {
          "base_uri": "https://localhost:8080/"
        },
        "id": "LPHQf4RbPNGi",
        "outputId": "c319daaf-6d0f-47d2-f183-e41c87382626"
      },
      "execution_count": 177,
      "outputs": [
        {
          "output_type": "execute_result",
          "data": {
            "text/plain": [
              "array([1, 0, 2, 1, 1, 0, 1, 1, 1, 1, 1, 0, 0, 0, 0, 1, 2, 1, 1, 2, 0, 1,\n",
              "       0, 2, 1, 2, 2, 2, 0, 0, 0, 0, 1, 0, 0, 2, 1, 0])"
            ]
          },
          "metadata": {},
          "execution_count": 177
        }
      ]
    },
    {
      "cell_type": "code",
      "source": [
        "y_label"
      ],
      "metadata": {
        "colab": {
          "base_uri": "https://localhost:8080/"
        },
        "id": "5Y-iixyeVFU1",
        "outputId": "deb233ba-f076-4f52-95ff-91b8e8b994d7"
      },
      "execution_count": 178,
      "outputs": [
        {
          "output_type": "execute_result",
          "data": {
            "text/plain": [
              "array([1, 0, 2, 1, 1, 0, 1, 1, 1, 1, 1, 0, 0, 0, 0, 1, 2, 1, 1, 2, 0, 1,\n",
              "       0, 2, 1, 2, 2, 2, 0, 0, 0, 0, 1, 0, 0, 2, 1, 0])"
            ]
          },
          "metadata": {},
          "execution_count": 178
        }
      ]
    },
    {
      "cell_type": "code",
      "source": [
        "from sklearn.metrics import accuracy_score\n",
        "from sklearn.metrics import precision_score\n",
        "from sklearn.metrics import recall_score\n",
        "from sklearn.metrics import f1_score"
      ],
      "metadata": {
        "id": "1qV8y6XRjPTp"
      },
      "execution_count": 179,
      "outputs": []
    },
    {
      "cell_type": "code",
      "source": [
        "accuracy = accuracy_score(y_label, predict_label)\n",
        "print('Accuracy: %f' % accuracy)"
      ],
      "metadata": {
        "colab": {
          "base_uri": "https://localhost:8080/"
        },
        "id": "HZnK-RUfaQHb",
        "outputId": "683cabee-f210-4e1a-8c71-0d95f0b69054"
      },
      "execution_count": 180,
      "outputs": [
        {
          "output_type": "stream",
          "name": "stdout",
          "text": [
            "Accuracy: 1.000000\n"
          ]
        }
      ]
    },
    {
      "cell_type": "markdown",
      "source": [
        "If we use the model to make prediction based on the test dataset, we can see that we are achieving 100% accuracy on the test dataset. "
      ],
      "metadata": {
        "id": "a4uV0K1sVIcD"
      }
    },
    {
      "cell_type": "code",
      "source": [
        "# list all data in history\n",
        "print(model_history.history.keys())"
      ],
      "metadata": {
        "colab": {
          "base_uri": "https://localhost:8080/"
        },
        "id": "f64VUXbqXWOM",
        "outputId": "3b639851-6aa8-4c28-97c0-03e066050db9"
      },
      "execution_count": 181,
      "outputs": [
        {
          "output_type": "stream",
          "name": "stdout",
          "text": [
            "dict_keys(['loss', 'accuracy'])\n"
          ]
        }
      ]
    },
    {
      "cell_type": "code",
      "source": [
        "# summarize history for accuracy\n",
        "plt.plot(model_history.history['accuracy'])\n",
        "plt.title('model accuracy')\n",
        "plt.ylabel('accuracy')\n",
        "plt.xlabel('epoch')\n",
        "plt.legend(['train', 'test'], loc='upper left')\n",
        "plt.show()"
      ],
      "metadata": {
        "colab": {
          "base_uri": "https://localhost:8080/",
          "height": 294
        },
        "id": "wqP0jeFQVqTp",
        "outputId": "fd192c4f-6c66-47d9-eda9-716bd2295487"
      },
      "execution_count": 182,
      "outputs": [
        {
          "output_type": "display_data",
          "data": {
            "image/png": "[encoded data removed]",
            "text/plain": [
              "<Figure size 432x288 with 1 Axes>"
            ]
          },
          "metadata": {
            "needs_background": "light"
          }
        }
      ]
    },
    {
      "cell_type": "code",
      "source": [
        "# summarize history for loss\n",
        "plt.plot(model_history.history['loss'])\n",
        "plt.title('model loss')\n",
        "plt.ylabel('loss')\n",
        "plt.xlabel('epoch')\n",
        "plt.legend(['train', 'test'], loc='upper left')\n",
        "plt.show()"
      ],
      "metadata": {
        "colab": {
          "base_uri": "https://localhost:8080/",
          "height": 294
        },
        "id": "IOzf9657Xm0I",
        "outputId": "06780ac9-5598-490d-ca16-0113d6399bc3"
      },
      "execution_count": 183,
      "outputs": [
        {
          "output_type": "display_data",
          "data": {
            "image/png": "[encoded data removed]",
            "text/plain": [
              "<Figure size 432x288 with 1 Axes>"
            ]
          },
          "metadata": {
            "needs_background": "light"
          }
        }
      ]
    },
    {
      "cell_type": "markdown",
      "source": [
        "From the graphs shown above, we can see that as number of epochs increase, the model accuracy increases exponentially, with the model loss decreases exponentially as well. Therefore, the increase number of epochs will increase the model accuracy and helpus get a better prediction model. "
      ],
      "metadata": {
        "id": "DkPBL-mVa_uS"
      }
    }
  ]
}